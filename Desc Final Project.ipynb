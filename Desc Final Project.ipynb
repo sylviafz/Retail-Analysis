{
 "cells": [
  {
   "cell_type": "markdown",
   "metadata": {},
   "source": [
    "# Penguraian Project"
   ]
  },
  {
   "cell_type": "markdown",
   "metadata": {},
   "source": [
    "## Deskripsi Project\n",
    "\n",
    "Dalam menjalankan bisnis rantai (*Franchise*), sangat penting untuk mengetahui outlet-outlet mana saja yang menjadi sumber pendapatan tertinggi dan terendah. Salah satunya dengan menganalisis bagaimana penjualan dan pendapatan yang dihasilkan oleh outlet-outlet tersebut. Dengan begitu kita bisa menentukan outlet mana saja dan mensupport outlet tersebut sesuai dengan kebutuhan yang diperlukan.\n",
    "\n",
    "Hasil analisis ini akan ditujukan untuk para customer kita (dalam hal ini *Franchisee*) untuk mempertahankan dan juga mengembangkan outlet mereka, dampaknya bisnis *Franchise* yang kita punya akan terus berjalan, dan mungkin bisa berkembang lebih baik lagi dalam hal penjualan.\n",
    "\n",
    "Beberapa metrik yang akan dipelajari dalam analisis ini:\n",
    "\n",
    "    1. Menganalisis bagaimana outlet terbesar beroperasi.\n",
    "    2. Menganalisis bagaimana outlet yang lain beroperasi dengan parameter yang sama.\n",
    "    3. Bagaimana perilaku pelanggan dalam untuk setiap outlet.\n",
    "    4. Merumuskan metrik kinerja outlet penjualan dan menghitungnya untuk setiap outlet.\n",
    "    "
   ]
  },
  {
   "cell_type": "markdown",
   "metadata": {},
   "source": [
    "## Deskripsi data\n",
    "\n",
    "Kita memiliki 2 data dalam bentuk `cvs` yaitu `retail_dataset_us.csv` dan `product_codes_us.csv`.\n",
    "\n",
    "berikut deskripsi dari setiap datanya:\n",
    "\n",
    "`retail_dataset_us.csv` berisi:\n",
    "\n",
    "- `purchaseId` - Purchase ID.\n",
    "- `item_ID` - Item ID.\n",
    "- `purchasedate` - Tanggal pembelian.\n",
    "- `Quantity` — Jumlah item yang dibeli.\n",
    "- `CustomerID` - Customer ID.\n",
    "- `ShopID` - Shop ID.\n",
    "- `loyalty_program` — Apakah customer member dari loyalty program? `1`: Ya, `0`: Tidak.\n",
    "\n",
    "`product_codes_us.csv` berisi:\n",
    "\n",
    "- `productID` - Product ID.\n",
    "- `price_per_one`- Harga satuan (dalam Dolar)."
   ]
  },
  {
   "cell_type": "markdown",
   "metadata": {},
   "source": [
    "## Pra-pemrosesan data\n",
    "\n",
    "Dalam step ini kita akan melihat bagaimana data yang kita punya, serta memperbaiki datanya agar memudahkan kita dalam menganalisis serta mendapatkan hasil yang lebih akurat. BErikut hal-hal yang akan di perhatikan dalam step Pra-pemrosesan data:\n",
    "\n",
    "- Import library yang dibutuhkan.\n",
    "- Import data file data lihat isi umum dari setiap tabel.\n",
    "- Memperbaiki nama kolom (Jika ada).\n",
    "- Mempelajari nilai-nilai yang hilang serta mengganti atau memperbaikinya.\n",
    "- Memeriksa dan menghapus nilai duplikat.\n",
    "- Mengkonversi tipe data.\n",
    "- Mengambil kesimpulan sementara.\n",
    "\n"
   ]
  },
  {
   "cell_type": "markdown",
   "metadata": {},
   "source": [
    "## Analisis Data Eksploratif (EDA)\n",
    "\n",
    "Pada tahap ini, kita akan mulai melakukan analisis data dengan melihat bagaimana data yang kita punya serta mengekstrak informasi dari data tersebut.\n",
    "\n",
    "1. Mempelajari data, membuat histogram dari parameter berikut dan ambil kesimpulan sementar:\n",
    "    - purchaseId\n",
    "    - item_ID\n",
    "    - purchasedate \n",
    "    - Quantity\n",
    "    - CustomerID\n",
    "    - ShopID \n",
    "    - loyalty_program\n",
    "2. Menganalisis bagaimana outlet terbesar beroperasi:\n",
    "     - menganalisis pendapatan yang dihasilkan.\n",
    "     - mengetahui jumlah pelanggan.\n",
    "     - mengetahui jumlah pembelian rata-rata yang dihasilkan selama periode tertentu.\n",
    "     - mengetahui jumlah item yang berhasil dijual.\n",
    "     - mengetahui item yang paling banyak terjual\n",
    "     - mengetahui retensi pelanggan.\n",
    "3. Menganalisis bagaimana outlet yang lain dengan parameter yang sama.\n",
    "4. Bagaimana perilaku anggota program loyalitas.\n",
    "5. Merumuskan metrik kinerja outlet penjualan dan menghitungnya untuk setiap outlet.\n",
    "6. Mendeskripsikan perilaku member loyalty program dan non-member serta menghitung rata-rata, varians, standar deviasi serta membuat histogram untuk melihat distribusinya datanya."
   ]
  },
  {
   "cell_type": "markdown",
   "metadata": {},
   "source": [
    "## Pengujian Hipotesis\n",
    "\n",
    "1. Dalam menguji hipotesis kita ingin mengetahui bagaimana rata-rata pembelian yang dilakukan oleh member loyalty program dan non-member dengan cara menentukan H0 dan H1 (nilai alternatif):\n",
    "\n",
    "    `Apakah rata-rata pembelian yang dilakukan oleh member loyalty program lebih besar dari pembelian yang dilakukan non-member.`\n",
    "\n",
    "    dengan begitu kita dapat merumuskan H0 dan H1 sebagai berikut:\n",
    "\n",
    "    **H0 : Rata-rata pembelian yang dilakukan oleh member loyalty program dan Non-member adalah SAMA**\n",
    "\n",
    "    **H1 : Rata-rata pembelian yang dilakukan oleh member loyalty program dan Non-member adalah TIDAK SAMA**\n",
    "\n",
    "\n",
    "2. Menentukan metode pengujian Hipotesis dan nilai alpha \n",
    "\n",
    "    Metode yang gunakan menggunakan metode ttest-independen dimana metode tersebut untuk menentukkan apakah adanya perbedaan rata-rata yang signifikan antara 2 variabel.\n",
    "    \n",
    "    Kriteria yang digunakan yaitu rata-rata pembelian yang di dapat dari anggota member dan non-member. untuk mengetahui perbedaan jumlah rata2 pendapatan, maka data yang digunakan adalah data yang telah difilter berdasarkan member loyalty program, lalu dihitung jumlah rata2 pembeliaanya dengan signifikansi statistiknya sebanyak 5% atau nilai alpha 0.05.\n",
    "  \n",
    "    \n",
    "3. Hasil Hipotesis\n",
    "    Hasil yang didapat dari pengujian hipotesis ini adalah:\n",
    "    - jika p value < alpha maka kita menolak hipotesis null (H0) yang artinya rata-rata pembelian yang dilakukan oleh member loyalty program dan Non-member adalah TIDAK SAMA.\n",
    "    - jika p value > aplha maka kita tidak dapat menolak hipotesis null yang artinya kita menerima H0 dimana rata-rata pembelian yang dilakukan oleh member loyalty program dan Non-member adalah SAMA.\n",
    "    "
   ]
  },
  {
   "cell_type": "markdown",
   "metadata": {},
   "source": [
    "## Persiapan presentasi\n",
    "\n",
    "Setelah melakukan analisis serta pengujian hipotesis, kita akan membuat dashboard pada tableau untuk presentasi kepada para customers (*Franchisee*). ini akan membantu mempermudah kita juga para stakeholder dalam melihat hasil analisis.\n",
    "\n",
    "Berikut informasi yang akan dimuat pada dasrboard:\n",
    "1. Pendapatan tiap Outlet.\n",
    "2. Pendapatan pada member dan non-member.\n",
    "3. Filter outlet.\n",
    "4. Filter Tanggal pembelian.\n",
    "\n"
   ]
  },
  {
   "cell_type": "markdown",
   "metadata": {},
   "source": [
    "## Kesimpulan akhir\n",
    "\n",
    "Membuat kesimpulan dari hasil analisis dan menyampaikannya pada customer tentang bagaimana bisnis *Franchise* kita dalam hal ini (*Franchisee*). Membuat rekomendasi apa saja yang dapat dilakukan untuk mengembangkan bisnis serta menambah pemasukan dari setiap outlet."
   ]
  },
  {
   "cell_type": "code",
   "execution_count": null,
   "metadata": {},
   "outputs": [],
   "source": []
  }
 ],
 "metadata": {
  "kernelspec": {
   "display_name": "Python 3 (ipykernel)",
   "language": "python",
   "name": "python3"
  },
  "language_info": {
   "codemirror_mode": {
    "name": "ipython",
    "version": 3
   },
   "file_extension": ".py",
   "mimetype": "text/x-python",
   "name": "python",
   "nbconvert_exporter": "python",
   "pygments_lexer": "ipython3",
   "version": "3.9.5"
  },
  "toc": {
   "base_numbering": 1,
   "nav_menu": {},
   "number_sections": true,
   "sideBar": true,
   "skip_h1_title": true,
   "title_cell": "Table of Contents",
   "title_sidebar": "Contents",
   "toc_cell": false,
   "toc_position": {},
   "toc_section_display": true,
   "toc_window_display": true
  }
 },
 "nbformat": 4,
 "nbformat_minor": 2
}
